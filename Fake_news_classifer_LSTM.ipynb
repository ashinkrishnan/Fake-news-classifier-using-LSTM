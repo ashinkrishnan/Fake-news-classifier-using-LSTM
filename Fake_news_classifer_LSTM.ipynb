{
  "nbformat": 4,
  "nbformat_minor": 0,
  "metadata": {
    "colab": {
      "name": "Fake news classifer_LSTM.ipynb",
      "provenance": [],
      "collapsed_sections": [],
      "mount_file_id": "12Qha5XsJs8ak7XEGsUywgae2Ik-VTzrH",
      "authorship_tag": "ABX9TyMcDyDP/olO5EIQsPCyoARQ",
      "include_colab_link": true
    },
    "kernelspec": {
      "name": "python3",
      "display_name": "Python 3"
    },
    "language_info": {
      "name": "python"
    }
  },
  "cells": [
    {
      "cell_type": "markdown",
      "metadata": {
        "id": "view-in-github",
        "colab_type": "text"
      },
      "source": [
        "<a href=\"https://colab.research.google.com/github/ashinkrishnan/Fake-news-classifier-using-LSTM/blob/main/Fake_news_classifer_LSTM.ipynb\" target=\"_parent\"><img src=\"https://colab.research.google.com/assets/colab-badge.svg\" alt=\"Open In Colab\"/></a>"
      ]
    },
    {
      "cell_type": "code",
      "metadata": {
        "id": "8LXk7mutF6vO"
      },
      "source": [
        "import pandas as pd"
      ],
      "execution_count": 1,
      "outputs": []
    },
    {
      "cell_type": "code",
      "metadata": {
        "id": "fzPybtsOVzuD"
      },
      "source": [
        "df= pd.read_csv('/content/drive/MyDrive/fake_news/train.csv')"
      ],
      "execution_count": 5,
      "outputs": []
    },
    {
      "cell_type": "code",
      "metadata": {
        "id": "GByeKNJ9V5uE",
        "colab": {
          "base_uri": "https://localhost:8080/",
          "height": 206
        },
        "outputId": "a183828e-f12d-4bcb-821c-c8facde0319c"
      },
      "source": [
        "df.head()"
      ],
      "execution_count": 6,
      "outputs": [
        {
          "output_type": "execute_result",
          "data": {
            "text/html": [
              "<div>\n",
              "<style scoped>\n",
              "    .dataframe tbody tr th:only-of-type {\n",
              "        vertical-align: middle;\n",
              "    }\n",
              "\n",
              "    .dataframe tbody tr th {\n",
              "        vertical-align: top;\n",
              "    }\n",
              "\n",
              "    .dataframe thead th {\n",
              "        text-align: right;\n",
              "    }\n",
              "</style>\n",
              "<table border=\"1\" class=\"dataframe\">\n",
              "  <thead>\n",
              "    <tr style=\"text-align: right;\">\n",
              "      <th></th>\n",
              "      <th>id</th>\n",
              "      <th>title</th>\n",
              "      <th>author</th>\n",
              "      <th>text</th>\n",
              "      <th>label</th>\n",
              "    </tr>\n",
              "  </thead>\n",
              "  <tbody>\n",
              "    <tr>\n",
              "      <th>0</th>\n",
              "      <td>0</td>\n",
              "      <td>House Dem Aide: We Didn’t Even See Comey’s Let...</td>\n",
              "      <td>Darrell Lucus</td>\n",
              "      <td>House Dem Aide: We Didn’t Even See Comey’s Let...</td>\n",
              "      <td>1</td>\n",
              "    </tr>\n",
              "    <tr>\n",
              "      <th>1</th>\n",
              "      <td>1</td>\n",
              "      <td>FLYNN: Hillary Clinton, Big Woman on Campus - ...</td>\n",
              "      <td>Daniel J. Flynn</td>\n",
              "      <td>Ever get the feeling your life circles the rou...</td>\n",
              "      <td>0</td>\n",
              "    </tr>\n",
              "    <tr>\n",
              "      <th>2</th>\n",
              "      <td>2</td>\n",
              "      <td>Why the Truth Might Get You Fired</td>\n",
              "      <td>Consortiumnews.com</td>\n",
              "      <td>Why the Truth Might Get You Fired October 29, ...</td>\n",
              "      <td>1</td>\n",
              "    </tr>\n",
              "    <tr>\n",
              "      <th>3</th>\n",
              "      <td>3</td>\n",
              "      <td>15 Civilians Killed In Single US Airstrike Hav...</td>\n",
              "      <td>Jessica Purkiss</td>\n",
              "      <td>Videos 15 Civilians Killed In Single US Airstr...</td>\n",
              "      <td>1</td>\n",
              "    </tr>\n",
              "    <tr>\n",
              "      <th>4</th>\n",
              "      <td>4</td>\n",
              "      <td>Iranian woman jailed for fictional unpublished...</td>\n",
              "      <td>Howard Portnoy</td>\n",
              "      <td>Print \\nAn Iranian woman has been sentenced to...</td>\n",
              "      <td>1</td>\n",
              "    </tr>\n",
              "  </tbody>\n",
              "</table>\n",
              "</div>"
            ],
            "text/plain": [
              "   id  ... label\n",
              "0   0  ...     1\n",
              "1   1  ...     0\n",
              "2   2  ...     1\n",
              "3   3  ...     1\n",
              "4   4  ...     1\n",
              "\n",
              "[5 rows x 5 columns]"
            ]
          },
          "metadata": {
            "tags": []
          },
          "execution_count": 6
        }
      ]
    },
    {
      "cell_type": "code",
      "metadata": {
        "colab": {
          "base_uri": "https://localhost:8080/"
        },
        "id": "M0lDVzWh4E6E",
        "outputId": "aa5a89e4-5d63-4b28-dddd-776051ffbc30"
      },
      "source": [
        "df=df.dropna()\n",
        "df.shape"
      ],
      "execution_count": 7,
      "outputs": [
        {
          "output_type": "execute_result",
          "data": {
            "text/plain": [
              "(18285, 5)"
            ]
          },
          "metadata": {
            "tags": []
          },
          "execution_count": 7
        }
      ]
    },
    {
      "cell_type": "code",
      "metadata": {
        "id": "okhAF2vY4vWh"
      },
      "source": [
        "X=df.drop('label',axis=1)"
      ],
      "execution_count": 9,
      "outputs": []
    },
    {
      "cell_type": "code",
      "metadata": {
        "id": "nYy28QqvAFy9"
      },
      "source": [
        "y=df['label']"
      ],
      "execution_count": 10,
      "outputs": []
    },
    {
      "cell_type": "code",
      "metadata": {
        "colab": {
          "base_uri": "https://localhost:8080/"
        },
        "id": "YodAPf6TAx0M",
        "outputId": "e86246df-3768-477d-9937-fea89edfeb30"
      },
      "source": [
        "y.value_counts()"
      ],
      "execution_count": 11,
      "outputs": [
        {
          "output_type": "execute_result",
          "data": {
            "text/plain": [
              "0    10361\n",
              "1     7924\n",
              "Name: label, dtype: int64"
            ]
          },
          "metadata": {
            "tags": []
          },
          "execution_count": 11
        }
      ]
    },
    {
      "cell_type": "code",
      "metadata": {
        "id": "rbLNHDKWA6nb"
      },
      "source": [
        "from tensorflow.keras.layers import Embedding\n",
        "from tensorflow.keras.preprocessing.sequence import pad_sequences\n",
        "from tensorflow.keras.models import Sequential\n",
        "from tensorflow.keras.preprocessing.text import one_hot\n",
        "from tensorflow.keras.layers import LSTM\n",
        "from tensorflow.keras.layers import Bidirectional\n",
        "from tensorflow.keras.layers import Dropout\n",
        "from tensorflow.keras.layers import Dense\n",
        "\n",
        "import nltk\n",
        "import re\n",
        "from nltk.corpus import stopwords"
      ],
      "execution_count": 19,
      "outputs": []
    },
    {
      "cell_type": "code",
      "metadata": {
        "id": "xxL6WQMABHkD"
      },
      "source": [
        "messages=X.copy()\n",
        "messages.reset_index(inplace=True)"
      ],
      "execution_count": 15,
      "outputs": []
    },
    {
      "cell_type": "code",
      "metadata": {
        "colab": {
          "base_uri": "https://localhost:8080/"
        },
        "id": "xMHEtCAXBUqE",
        "outputId": "edcadc4b-e447-470f-9ea5-d313888e407a"
      },
      "source": [
        "nltk.download('stopwords')"
      ],
      "execution_count": 14,
      "outputs": [
        {
          "output_type": "stream",
          "text": [
            "[nltk_data] Downloading package stopwords to /root/nltk_data...\n",
            "[nltk_data]   Unzipping corpora/stopwords.zip.\n"
          ],
          "name": "stdout"
        },
        {
          "output_type": "execute_result",
          "data": {
            "text/plain": [
              "True"
            ]
          },
          "metadata": {
            "tags": []
          },
          "execution_count": 14
        }
      ]
    },
    {
      "cell_type": "code",
      "metadata": {
        "colab": {
          "base_uri": "https://localhost:8080/"
        },
        "id": "1w9fUH0JBcGM",
        "outputId": "914c30c1-9a43-45bb-be93-af83ceb7f2aa"
      },
      "source": [
        "from nltk.stem.porter import PorterStemmer\n",
        "ps = PorterStemmer()\n",
        "corpus=[]\n",
        "\n",
        "for i in range(0,len(messages)):\n",
        "  print(i,end='\\r')\n",
        "  rw = re.sub('^[a-zA-Z]',' ',messages['title'][i])\n",
        "  rw = rw.lower()\n",
        "  rw = rw.split()\n",
        "\n",
        "  rw = [ps.stem(word) for word in rw if not word in stopwords.words('english')]\n",
        "  rw = ' '.join(rw)\n",
        "  corpus.append(rw)"
      ],
      "execution_count": 21,
      "outputs": [
        {
          "output_type": "stream",
          "text": [
            ""
          ],
          "name": "stdout"
        }
      ]
    },
    {
      "cell_type": "code",
      "metadata": {
        "colab": {
          "base_uri": "https://localhost:8080/"
        },
        "id": "z-qX0-a-FcNX",
        "outputId": "f61b4c1e-11a8-4fcf-e328-5df31f840cc3"
      },
      "source": [
        "corpus[:5]"
      ],
      "execution_count": 23,
      "outputs": [
        {
          "output_type": "execute_result",
          "data": {
            "text/plain": [
              "['ous dem aide: didn’t even see comey’ letter jason chaffetz tweet',\n",
              " 'lynn: hillari clinton, big woman campu - breitbart',\n",
              " 'hy truth might get fire',\n",
              " '15 civilian kill singl us airstrik identifi',\n",
              " 'ranian woman jail fiction unpublish stori woman stone death adulteri']"
            ]
          },
          "metadata": {
            "tags": []
          },
          "execution_count": 23
        }
      ]
    },
    {
      "cell_type": "code",
      "metadata": {
        "colab": {
          "base_uri": "https://localhost:8080/"
        },
        "id": "hBGtjD9tH3hm",
        "outputId": "e7d96c27-3852-4d99-bd38-92326fd676c8"
      },
      "source": [
        "voc_size=5000\n",
        "onehot_encoded = [one_hot(word,voc_size) for word in corpus]\n",
        "onehot_encoded[:5]"
      ],
      "execution_count": 27,
      "outputs": [
        {
          "output_type": "execute_result",
          "data": {
            "text/plain": [
              "[[901, 830, 1009, 3315, 870, 2434, 2482, 4177, 3156, 1524, 4154],\n",
              " [2874, 3148, 736, 2459, 1895, 1655, 4641],\n",
              " [3685, 816, 391, 2869, 4582],\n",
              " [2294, 4898, 1131, 690, 3506, 3174, 4443],\n",
              " [746, 1895, 3525, 4153, 2646, 768, 1895, 4205, 4552, 1884]]"
            ]
          },
          "metadata": {
            "tags": []
          },
          "execution_count": 27
        }
      ]
    },
    {
      "cell_type": "code",
      "metadata": {
        "colab": {
          "base_uri": "https://localhost:8080/"
        },
        "id": "JU7wZR9sIdQo",
        "outputId": "f6a3ccfe-5853-4231-8d7e-8675449b504a"
      },
      "source": [
        "#Embedding Representation\n",
        "sent_length = 20\n",
        "embedded_docs = pad_sequences(onehot_encoded,padding='post',maxlen=sent_length)\n",
        "print(embedded_docs)"
      ],
      "execution_count": 29,
      "outputs": [
        {
          "output_type": "stream",
          "text": [
            "[[ 901  830 1009 ...    0    0    0]\n",
            " [2874 3148  736 ...    0    0    0]\n",
            " [3685  816  391 ...    0    0    0]\n",
            " ...\n",
            " [3341 3509 4582 ...    0    0    0]\n",
            " [4654 2979 3743 ...    0    0    0]\n",
            " [4976 2744 3990 ...    0    0    0]]\n"
          ],
          "name": "stdout"
        }
      ]
    },
    {
      "cell_type": "code",
      "metadata": {
        "colab": {
          "base_uri": "https://localhost:8080/"
        },
        "id": "PHXfNFbeNuIT",
        "outputId": "bcc9c4be-074b-421a-ca00-5e05488a41d5"
      },
      "source": [
        "## Create Model\n",
        "embedding_vector_feature = 40\n",
        "model = Sequential()\n",
        "model.add(Embedding(voc_size,embedding_vector_feature,input_length=sent_length))\n",
        "model.add(LSTM(100))\n",
        "model.add(Dense(1,activation='sigmoid'))\n",
        "model.compile(loss='binary_crossentropy',optimizer='adam',metrics=['accuracy'])\n",
        "print(model.summary())"
      ],
      "execution_count": 31,
      "outputs": [
        {
          "output_type": "stream",
          "text": [
            "Model: \"sequential_1\"\n",
            "_________________________________________________________________\n",
            "Layer (type)                 Output Shape              Param #   \n",
            "=================================================================\n",
            "embedding_1 (Embedding)      (None, 20, 40)            200000    \n",
            "_________________________________________________________________\n",
            "lstm_1 (LSTM)                (None, 100)               56400     \n",
            "_________________________________________________________________\n",
            "dense_1 (Dense)              (None, 1)                 101       \n",
            "=================================================================\n",
            "Total params: 256,501\n",
            "Trainable params: 256,501\n",
            "Non-trainable params: 0\n",
            "_________________________________________________________________\n",
            "None\n"
          ],
          "name": "stdout"
        }
      ]
    },
    {
      "cell_type": "code",
      "metadata": {
        "id": "DMVtsUU4OWKR"
      },
      "source": [
        "import numpy as np\n",
        "X_final=np.array(embedded_docs)\n",
        "y_final=np.array(y)"
      ],
      "execution_count": 32,
      "outputs": []
    },
    {
      "cell_type": "code",
      "metadata": {
        "id": "_dtAJ3A5OiRx"
      },
      "source": [
        "from sklearn.model_selection import train_test_split\n",
        "X_train, X_test, y_train, y_test = train_test_split(X_final, y_final, test_size=0.33, random_state=42)"
      ],
      "execution_count": 33,
      "outputs": []
    },
    {
      "cell_type": "code",
      "metadata": {
        "colab": {
          "base_uri": "https://localhost:8080/"
        },
        "id": "3wcQ-pHjOl4f",
        "outputId": "9d9daa3f-4633-4e73-b274-1a3bbe943fa1"
      },
      "source": [
        "### Model Training\n",
        "model.fit(X_train,y_train,validation_data=(X_test,y_test),epochs=10,batch_size=64)"
      ],
      "execution_count": 34,
      "outputs": [
        {
          "output_type": "stream",
          "text": [
            "Epoch 1/10\n",
            "192/192 [==============================] - 9s 37ms/step - loss: 0.3256 - accuracy: 0.8376 - val_loss: 0.2043 - val_accuracy: 0.9153\n",
            "Epoch 2/10\n",
            "192/192 [==============================] - 6s 34ms/step - loss: 0.1344 - accuracy: 0.9491 - val_loss: 0.2456 - val_accuracy: 0.9132\n",
            "Epoch 3/10\n",
            "192/192 [==============================] - 7s 34ms/step - loss: 0.0831 - accuracy: 0.9699 - val_loss: 0.2720 - val_accuracy: 0.9102\n",
            "Epoch 4/10\n",
            "192/192 [==============================] - 7s 34ms/step - loss: 0.0546 - accuracy: 0.9818 - val_loss: 0.3603 - val_accuracy: 0.9072\n",
            "Epoch 5/10\n",
            "192/192 [==============================] - 7s 34ms/step - loss: 0.0336 - accuracy: 0.9892 - val_loss: 0.3830 - val_accuracy: 0.9052\n",
            "Epoch 6/10\n",
            "192/192 [==============================] - 7s 34ms/step - loss: 0.0242 - accuracy: 0.9919 - val_loss: 0.3826 - val_accuracy: 0.9032\n",
            "Epoch 7/10\n",
            "192/192 [==============================] - 7s 34ms/step - loss: 0.0217 - accuracy: 0.9930 - val_loss: 0.4849 - val_accuracy: 0.9029\n",
            "Epoch 8/10\n",
            "192/192 [==============================] - 7s 34ms/step - loss: 0.0116 - accuracy: 0.9965 - val_loss: 0.4600 - val_accuracy: 0.9065\n",
            "Epoch 9/10\n",
            "192/192 [==============================] - 7s 34ms/step - loss: 0.0092 - accuracy: 0.9971 - val_loss: 0.5029 - val_accuracy: 0.9044\n",
            "Epoch 10/10\n",
            "192/192 [==============================] - 6s 34ms/step - loss: 0.0066 - accuracy: 0.9982 - val_loss: 0.5841 - val_accuracy: 0.9019\n"
          ],
          "name": "stdout"
        },
        {
          "output_type": "execute_result",
          "data": {
            "text/plain": [
              "<tensorflow.python.keras.callbacks.History at 0x7f7d492b9f50>"
            ]
          },
          "metadata": {
            "tags": []
          },
          "execution_count": 34
        }
      ]
    },
    {
      "cell_type": "code",
      "metadata": {
        "id": "GQn72ma8PfXh"
      },
      "source": [
        ""
      ],
      "execution_count": null,
      "outputs": []
    },
    {
      "cell_type": "code",
      "metadata": {
        "id": "2Pn1YZU2OsGH"
      },
      "source": [
        "from tensorflow.keras.layers import Dropout\n",
        "## Creating model\n",
        "embedding_vector_features=40\n",
        "model_01=Sequential()\n",
        "model_01.add(Embedding(voc_size,embedding_vector_features,input_length=sent_length))\n",
        "model_01.add(Dropout(0.3))\n",
        "model_01.add(LSTM(100))\n",
        "model_01.add(Dropout(0.3))\n",
        "model_01.add(Dense(1,activation='sigmoid'))\n",
        "model_01.compile(loss='binary_crossentropy',optimizer='adam',metrics=['accuracy'])\n",
        "\n"
      ],
      "execution_count": 35,
      "outputs": []
    },
    {
      "cell_type": "code",
      "metadata": {
        "colab": {
          "base_uri": "https://localhost:8080/"
        },
        "id": "GFT0DPvVPipA",
        "outputId": "9f88d003-b3bf-41f1-f2c5-09f4bae5ea02"
      },
      "source": [
        "### Model Training\n",
        "model_01.fit(X_train,y_train,validation_data=(X_test,y_test),epochs=10,batch_size=64)"
      ],
      "execution_count": 36,
      "outputs": [
        {
          "output_type": "stream",
          "text": [
            "Epoch 1/10\n",
            "192/192 [==============================] - 9s 37ms/step - loss: 0.3325 - accuracy: 0.8331 - val_loss: 0.2047 - val_accuracy: 0.9160\n",
            "Epoch 2/10\n",
            "192/192 [==============================] - 7s 35ms/step - loss: 0.1455 - accuracy: 0.9421 - val_loss: 0.2122 - val_accuracy: 0.9160\n",
            "Epoch 3/10\n",
            "192/192 [==============================] - 7s 35ms/step - loss: 0.1013 - accuracy: 0.9624 - val_loss: 0.2332 - val_accuracy: 0.9042\n",
            "Epoch 4/10\n",
            "192/192 [==============================] - 7s 35ms/step - loss: 0.0664 - accuracy: 0.9775 - val_loss: 0.2907 - val_accuracy: 0.9085\n",
            "Epoch 5/10\n",
            "192/192 [==============================] - 7s 35ms/step - loss: 0.0476 - accuracy: 0.9842 - val_loss: 0.3025 - val_accuracy: 0.9107\n",
            "Epoch 6/10\n",
            "192/192 [==============================] - 7s 35ms/step - loss: 0.0337 - accuracy: 0.9891 - val_loss: 0.3850 - val_accuracy: 0.9056\n",
            "Epoch 7/10\n",
            "192/192 [==============================] - 7s 35ms/step - loss: 0.0290 - accuracy: 0.9900 - val_loss: 0.4062 - val_accuracy: 0.9049\n",
            "Epoch 8/10\n",
            "192/192 [==============================] - 7s 35ms/step - loss: 0.0241 - accuracy: 0.9922 - val_loss: 0.5369 - val_accuracy: 0.9022\n",
            "Epoch 9/10\n",
            "192/192 [==============================] - 7s 35ms/step - loss: 0.0204 - accuracy: 0.9940 - val_loss: 0.3889 - val_accuracy: 0.9064\n",
            "Epoch 10/10\n",
            "192/192 [==============================] - 7s 35ms/step - loss: 0.0158 - accuracy: 0.9949 - val_loss: 0.5478 - val_accuracy: 0.9052\n"
          ],
          "name": "stdout"
        },
        {
          "output_type": "execute_result",
          "data": {
            "text/plain": [
              "<tensorflow.python.keras.callbacks.History at 0x7f7d41572f10>"
            ]
          },
          "metadata": {
            "tags": []
          },
          "execution_count": 36
        }
      ]
    },
    {
      "cell_type": "code",
      "metadata": {
        "colab": {
          "base_uri": "https://localhost:8080/"
        },
        "id": "5AO5z_SVPnFw",
        "outputId": "927a1dbf-ded1-41c2-b860-4407fdf1621c"
      },
      "source": [
        "#preformance metrics\n",
        "y_pred = model_01.predict_classes(X_test)"
      ],
      "execution_count": 40,
      "outputs": [
        {
          "output_type": "stream",
          "text": [
            "/usr/local/lib/python3.7/dist-packages/tensorflow/python/keras/engine/sequential.py:455: UserWarning: `model.predict_classes()` is deprecated and will be removed after 2021-01-01. Please use instead:* `np.argmax(model.predict(x), axis=-1)`,   if your model does multi-class classification   (e.g. if it uses a `softmax` last-layer activation).* `(model.predict(x) > 0.5).astype(\"int32\")`,   if your model does binary classification   (e.g. if it uses a `sigmoid` last-layer activation).\n",
            "  warnings.warn('`model.predict_classes()` is deprecated and '\n"
          ],
          "name": "stderr"
        }
      ]
    },
    {
      "cell_type": "code",
      "metadata": {
        "colab": {
          "base_uri": "https://localhost:8080/"
        },
        "id": "JlZinkiaQN32",
        "outputId": "f4074d51-e941-47d0-b90c-a2a9323a3d13"
      },
      "source": [
        "from sklearn.metrics import confusion_matrix\n",
        "confusion_matrix(y_test,y_pred)"
      ],
      "execution_count": 41,
      "outputs": [
        {
          "output_type": "execute_result",
          "data": {
            "text/plain": [
              "array([[3108,  311],\n",
              "       [ 261, 2355]])"
            ]
          },
          "metadata": {
            "tags": []
          },
          "execution_count": 41
        }
      ]
    },
    {
      "cell_type": "code",
      "metadata": {
        "colab": {
          "base_uri": "https://localhost:8080/"
        },
        "id": "9U7nItPnQfPR",
        "outputId": "14e762ff-0fea-4a90-aab0-25048a8f3280"
      },
      "source": [
        "from sklearn.metrics import accuracy_score\n",
        "accuracy_score(y_test,y_pred)"
      ],
      "execution_count": 42,
      "outputs": [
        {
          "output_type": "execute_result",
          "data": {
            "text/plain": [
              "0.9052195526097763"
            ]
          },
          "metadata": {
            "tags": []
          },
          "execution_count": 42
        }
      ]
    },
    {
      "cell_type": "code",
      "metadata": {
        "id": "NM3n_C0GQ29C"
      },
      "source": [
        ""
      ],
      "execution_count": null,
      "outputs": []
    }
  ]
}